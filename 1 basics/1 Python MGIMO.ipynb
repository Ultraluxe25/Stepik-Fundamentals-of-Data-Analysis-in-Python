{
 "cells": [
  {
   "cell_type": "markdown",
   "id": "04d9ade0",
   "metadata": {},
   "source": [
    "# Заголовок\n",
    "\n",
    "*курсив*\n",
    "\n",
    "**жирный шрифт**"
   ]
  },
  {
   "cell_type": "markdown",
   "id": "4d6c02a1",
   "metadata": {},
   "source": [
    "- Поступить в ШАД\n",
    "- Поступить в магистратуру ФПМИ БГУ\n",
    "- Попасть в Data Science"
   ]
  },
  {
   "cell_type": "markdown",
   "id": "c998e66c",
   "metadata": {},
   "source": [
    "1) Сдать последний экзамен\n",
    "2) Пройти преддипломную практику\n",
    "3) Написать отчёт по практике\n",
    "4) Написать тезисы для конференции\n",
    "5) Поучаствовать в конференции\n",
    "6) Сдать ГОСЫ\n",
    "7) Написать диплом\n",
    "8) Защитить диплом\n",
    "9) Получить диплом"
   ]
  },
  {
   "cell_type": "markdown",
   "id": "ed6f90ef",
   "metadata": {},
   "source": [
    "![Stepik](https://stepik.org/static/frontend/new-year/2022/topbar_logo.svg)"
   ]
  },
  {
   "cell_type": "code",
   "execution_count": 7,
   "id": "ce222aaf",
   "metadata": {},
   "outputs": [],
   "source": [
    "oop = ['наследование', 'инкапсуляция', 'полиморфизм']"
   ]
  },
  {
   "cell_type": "code",
   "execution_count": 12,
   "id": "9a941e03",
   "metadata": {},
   "outputs": [],
   "source": [
    "important, *_ = oop"
   ]
  },
  {
   "cell_type": "code",
   "execution_count": 13,
   "id": "57504e79",
   "metadata": {},
   "outputs": [
    {
     "data": {
      "text/plain": [
       "'наследование'"
      ]
     },
     "execution_count": 13,
     "metadata": {},
     "output_type": "execute_result"
    }
   ],
   "source": [
    "important"
   ]
  },
  {
   "cell_type": "code",
   "execution_count": 15,
   "id": "2cb74b7b",
   "metadata": {},
   "outputs": [
    {
     "data": {
      "text/plain": [
       "['инкапсуляция', 'полиморфизм']"
      ]
     },
     "execution_count": 15,
     "metadata": {},
     "output_type": "execute_result"
    }
   ],
   "source": [
    "_"
   ]
  },
  {
   "cell_type": "code",
   "execution_count": 16,
   "id": "774ba78b",
   "metadata": {},
   "outputs": [],
   "source": [
    "languages = ['C++', 'Python', 'R']"
   ]
  },
  {
   "cell_type": "code",
   "execution_count": 17,
   "id": "8c8c9f5e",
   "metadata": {},
   "outputs": [],
   "source": [
    "fast, *Data_Science = languages"
   ]
  },
  {
   "cell_type": "code",
   "execution_count": 18,
   "id": "e2da0a27",
   "metadata": {},
   "outputs": [
    {
     "data": {
      "text/plain": [
       "'C++'"
      ]
     },
     "execution_count": 18,
     "metadata": {},
     "output_type": "execute_result"
    }
   ],
   "source": [
    "fast"
   ]
  },
  {
   "cell_type": "code",
   "execution_count": 19,
   "id": "0a1bd2e9",
   "metadata": {},
   "outputs": [
    {
     "data": {
      "text/plain": [
       "['Python', 'R']"
      ]
     },
     "execution_count": 19,
     "metadata": {},
     "output_type": "execute_result"
    }
   ],
   "source": [
    "Data_Science"
   ]
  },
  {
   "cell_type": "code",
   "execution_count": 20,
   "id": "3f6d037f",
   "metadata": {},
   "outputs": [
    {
     "data": {
      "text/plain": [
       "['Python']"
      ]
     },
     "execution_count": 20,
     "metadata": {},
     "output_type": "execute_result"
    }
   ],
   "source": [
    "del Data_Science[1]\n",
    "Data_Science"
   ]
  },
  {
   "cell_type": "code",
   "execution_count": 21,
   "id": "3a88818a",
   "metadata": {},
   "outputs": [
    {
     "data": {
      "text/plain": [
       "2"
      ]
     },
     "execution_count": 21,
     "metadata": {},
     "output_type": "execute_result"
    }
   ],
   "source": [
    "marks = [4, 5, 4, 7, 8, 4, 4]\n",
    "marks.index(4, 1)"
   ]
  },
  {
   "cell_type": "code",
   "execution_count": 22,
   "id": "22267735",
   "metadata": {},
   "outputs": [],
   "source": [
    "# doc-стринги для понимания работы функции\n",
    "?enumerate"
   ]
  },
  {
   "cell_type": "code",
   "execution_count": 24,
   "id": "5ffe4b22",
   "metadata": {},
   "outputs": [],
   "source": [
    "def func():  # пользовательская функция\n",
    "    \"\"\"\n",
    "    doc-стринг функции\n",
    "    \"\"\"\n",
    "    \n",
    "\n",
    "?func"
   ]
  },
  {
   "cell_type": "code",
   "execution_count": 25,
   "id": "8858112c",
   "metadata": {},
   "outputs": [
    {
     "data": {
      "text/plain": [
       "72"
      ]
     },
     "execution_count": 25,
     "metadata": {},
     "output_type": "execute_result"
    }
   ],
   "source": [
    "[1, 2, 3].__sizeof__()"
   ]
  }
 ],
 "metadata": {
  "kernelspec": {
   "display_name": "Python 3 (ipykernel)",
   "language": "python",
   "name": "python3"
  },
  "language_info": {
   "codemirror_mode": {
    "name": "ipython",
    "version": 3
   },
   "file_extension": ".py",
   "mimetype": "text/x-python",
   "name": "python",
   "nbconvert_exporter": "python",
   "pygments_lexer": "ipython3",
   "version": "3.10.8"
  }
 },
 "nbformat": 4,
 "nbformat_minor": 5
}
